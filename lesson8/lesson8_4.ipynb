{
 "cells": [
  {
   "cell_type": "code",
   "execution_count": null,
   "metadata": {},
   "outputs": [],
   "source": [
    "from tools import fetch_youbike_data\n",
    "import pandas as pd\n",
    "youbike_data:list[dict] = fetch_youbike_data()\n",
    "def map_func(value:dict)->str:\n",
    "   return value['sarea'] \n",
    "\n",
    "duplicate_map = map(map_func,youbike_data)\n",
    "unique_map = set(duplicate_map)\n",
    "area_list = list(unique_map)\n",
    "area_list"
   ]
  },
  {
   "cell_type": "code",
   "execution_count": 8,
   "metadata": {},
   "outputs": [
    {
     "data": {
      "text/plain": [
       "['新店區',\n",
       " '石門區',\n",
       " '深坑區',\n",
       " '中和區',\n",
       " '林口區',\n",
       " '土城區',\n",
       " '三峽區',\n",
       " '平溪區',\n",
       " '三芝區',\n",
       " '石碇區',\n",
       " '金山區',\n",
       " '板橋區',\n",
       " '汐止區',\n",
       " '瑞芳區',\n",
       " '三重區',\n",
       " '永和區',\n",
       " '五股區',\n",
       " '泰山區',\n",
       " '萬里區',\n",
       " '淡水區',\n",
       " '八里區',\n",
       " '坪林區']"
      ]
     },
     "execution_count": 8,
     "metadata": {},
     "output_type": "execute_result"
    }
   ],
   "source": [
    "from tools import fetch_youbike_data\n",
    "import pandas as pd\n",
    "youbike_data:list[dict] = fetch_youbike_data()\n",
    "\n",
    "area_list = list(set(map(lambda value:value['sarea'],youbike_data)))\n",
    "area_list"
   ]
  }
 ],
 "metadata": {
  "kernelspec": {
   "display_name": "base1",
   "language": "python",
   "name": "python3"
  },
  "language_info": {
   "codemirror_mode": {
    "name": "ipython",
    "version": 3
   },
   "file_extension": ".py",
   "mimetype": "text/x-python",
   "name": "python",
   "nbconvert_exporter": "python",
   "pygments_lexer": "ipython3",
   "version": "3.10.16"
  }
 },
 "nbformat": 4,
 "nbformat_minor": 2
}
