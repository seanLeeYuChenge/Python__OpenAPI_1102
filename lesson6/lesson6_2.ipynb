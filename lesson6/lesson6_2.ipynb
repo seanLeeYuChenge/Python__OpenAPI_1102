{
 "cells": [
  {
   "cell_type": "code",
   "execution_count": 3,
   "metadata": {},
   "outputs": [
    {
     "data": {
      "text/plain": [
       "openpyxl.workbook.workbook.Workbook"
      ]
     },
     "execution_count": 3,
     "metadata": {},
     "output_type": "execute_result"
    }
   ],
   "source": [
    "from openpyxl import load_workbook, Workbook, worksheet\n",
    "\n",
    "wb:Workbook = load_workbook('./aqi.xlsx')\n",
    "type(wb)"
   ]
  },
  {
   "cell_type": "code",
   "execution_count": null,
   "metadata": {},
   "outputs": [],
   "source": [
    "from pprint import pprint\n",
    "sheet:worksheet = wb.worksheets[0]\n",
    "type(sheet)\n",
    "sheets:list = []\n",
    "column_names:list[str] =[cell.value for cell in list(sheet)[0]]\n",
    "print(column_names)\n",
    "\n",
    "for row in list(sheet)[1:]:\n",
    "    site:dict = {}\n",
    "    for idx,cell in enumerate(row):        \n",
    "        #print(column_names[idx], item.value)\n",
    "        #print(idx,cell)\n",
    "        site[column_names[idx]] = cell.value\n",
    "    #print(\"===========\")\n",
    "    sheets.append(site)\n",
    "#print(len(sheets))\n",
    "pprint(sheets)\n",
    "    "
   ]
  },
  {
   "cell_type": "code",
   "execution_count": null,
   "metadata": {},
   "outputs": [],
   "source": [
    "from openpyxl import load_workbook, Workbook, worksheet\n",
    "\n",
    "wb:Workbook = load_workbook('aqi.xlsx')\n",
    "from pprint import pprint\n",
    "sheet:worksheet = wb.worksheets[0]\n",
    "sheets:list = []\n",
    "column_names:list[str] =[cell.value for cell in list(sheet)[0]]\n",
    "for row in list(sheet)[1:]:\n",
    "    site:dict = {column_names[idx]:cell.value for idx,cell in enumerate(row)}    \n",
    "    sheets.append(site)\n",
    "\n",
    "pprint(sheets)"
   ]
  },
  {
   "cell_type": "code",
   "execution_count": null,
   "metadata": {},
   "outputs": [],
   "source": [
    "for site in sheets:\n",
    "    if site['sitename'] == '永和':\n",
    "        print(site)"
   ]
  }
 ],
 "metadata": {
  "kernelspec": {
   "display_name": "base",
   "language": "python",
   "name": "python3"
  },
  "language_info": {
   "codemirror_mode": {
    "name": "ipython",
    "version": 3
   },
   "file_extension": ".py",
   "mimetype": "text/x-python",
   "name": "python",
   "nbconvert_exporter": "python",
   "pygments_lexer": "ipython3",
   "version": "3.12.2"
  }
 },
 "nbformat": 4,
 "nbformat_minor": 2
}
