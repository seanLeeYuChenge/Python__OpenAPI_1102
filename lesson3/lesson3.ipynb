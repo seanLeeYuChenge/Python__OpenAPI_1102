{
 "cells": [
  {
   "cell_type": "code",
   "execution_count": 1,
   "metadata": {},
   "outputs": [
    {
     "name": "stdout",
     "output_type": "stream",
     "text": [
      "您的BMI值是32.87\n",
      "您的體重中度肥胖\n",
      "程式結束\n"
     ]
    }
   ],
   "source": [
    "# 20241109 homework BMI計算\n",
    "\n",
    "try:\n",
    "    height_cm = float(input(\"請輸入身高(公分):\"))\n",
    "    weight_kg = float(input(\"請輸入體重(公斤):\"))\n",
    "except Exception:\n",
    "    print('輸入格式錯誤')\n",
    "\n",
    "else:\n",
    "    height_m = round(height_cm/100, 2)\n",
    "\n",
    "    bmi_kg_m2 = round(weight_kg/(height_m**2), 2)\n",
    "\n",
    "    if bmi_kg_m2 >= 35 :\n",
    "        bmi = '重度肥胖'\n",
    "    elif bmi_kg_m2 >= 30 :\n",
    "        bmi = '中度肥胖'\n",
    "    elif bmi_kg_m2 >= 27 :\n",
    "        bmi = '輕度肥胖'\n",
    "    elif bmi_kg_m2 >= 24 :\n",
    "        bmi = '過重'\n",
    "    elif bmi_kg_m2 >= 18.5 :\n",
    "        bmi = '正常範圍'\n",
    "    else :\n",
    "        bmi = '過輕' \n",
    "    \n",
    "    print(f\"您的BMI值是{bmi_kg_m2}\\n您的體重{bmi}\") \n",
    "\n",
    "print(\"程式結束\")"
   ]
  },
  {
   "cell_type": "code",
   "execution_count": 2,
   "metadata": {},
   "outputs": [
    {
     "data": {
      "text/plain": [
       "55"
      ]
     },
     "execution_count": 2,
     "metadata": {},
     "output_type": "execute_result"
    }
   ],
   "source": [
    "n = 0\n",
    "n += 1\n",
    "n += 2\n",
    "n += 3\n",
    "n += 4\n",
    "n += 5\n",
    "n += 6\n",
    "n += 7\n",
    "n += 8\n",
    "n += 9\n",
    "n += 10\n",
    "n"
   ]
  },
  {
   "cell_type": "code",
   "execution_count": 3,
   "metadata": {},
   "outputs": [
    {
     "data": {
      "text/plain": [
       "[1, 2, 3, 4, 5, 6, 7, 8, 9]"
      ]
     },
     "execution_count": 3,
     "metadata": {},
     "output_type": "execute_result"
    }
   ],
   "source": [
    "list(range(1, 10))"
   ]
  },
  {
   "cell_type": "code",
   "execution_count": 4,
   "metadata": {},
   "outputs": [
    {
     "data": {
      "text/plain": [
       "[1, 3, 5, 7, 9]"
      ]
     },
     "execution_count": 4,
     "metadata": {},
     "output_type": "execute_result"
    }
   ],
   "source": [
    "list(range(1, 10, 2))"
   ]
  },
  {
   "cell_type": "code",
   "execution_count": 5,
   "metadata": {},
   "outputs": [
    {
     "data": {
      "text/plain": [
       "5050"
      ]
     },
     "execution_count": 5,
     "metadata": {},
     "output_type": "execute_result"
    }
   ],
   "source": [
    "n = 0\n",
    "for i in range(1, 101):\n",
    "    n += i\n",
    "n"
   ]
  }
 ],
 "metadata": {
  "kernelspec": {
   "display_name": "Python 3",
   "language": "python",
   "name": "python3"
  },
  "language_info": {
   "codemirror_mode": {
    "name": "ipython",
    "version": 3
   },
   "file_extension": ".py",
   "mimetype": "text/x-python",
   "name": "python",
   "nbconvert_exporter": "python",
   "pygments_lexer": "ipython3",
   "version": "3.12.3"
  }
 },
 "nbformat": 4,
 "nbformat_minor": 2
}
