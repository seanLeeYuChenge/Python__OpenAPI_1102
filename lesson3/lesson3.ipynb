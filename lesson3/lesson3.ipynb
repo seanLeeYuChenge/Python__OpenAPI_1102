{
 "cells": [
  {
   "cell_type": "code",
   "execution_count": 1,
   "metadata": {},
   "outputs": [
    {
     "name": "stdout",
     "output_type": "stream",
     "text": [
      "您的BMI值是32.87\n",
      "您的體重中度肥胖\n",
      "程式結束\n"
     ]
    }
   ],
   "source": [
    "# 20241109 homework BMI計算\n",
    "\n",
    "try:\n",
    "    height_cm = float(input(\"請輸入身高(公分):\"))\n",
    "    weight_kg = float(input(\"請輸入體重(公斤):\"))\n",
    "except Exception:\n",
    "    print('輸入格式錯誤')\n",
    "\n",
    "else:\n",
    "    height_m = round(height_cm/100, 2)\n",
    "\n",
    "    bmi_kg_m2 = round(weight_kg/(height_m**2), 2)\n",
    "\n",
    "    if bmi_kg_m2 >= 35 :\n",
    "        bmi = '重度肥胖'\n",
    "    elif bmi_kg_m2 >= 30 :\n",
    "        bmi = '中度肥胖'\n",
    "    elif bmi_kg_m2 >= 27 :\n",
    "        bmi = '輕度肥胖'\n",
    "    elif bmi_kg_m2 >= 24 :\n",
    "        bmi = '過重'\n",
    "    elif bmi_kg_m2 >= 18.5 :\n",
    "        bmi = '正常範圍'\n",
    "    else :\n",
    "        bmi = '過輕' \n",
    "    \n",
    "    print(f\"您的BMI值是{bmi_kg_m2}\\n您的體重{bmi}\") \n",
    "\n",
    "print(\"程式結束\")"
   ]
  },
  {
   "cell_type": "code",
   "execution_count": 2,
   "metadata": {},
   "outputs": [
    {
     "data": {
      "text/plain": [
       "55"
      ]
     },
     "execution_count": 2,
     "metadata": {},
     "output_type": "execute_result"
    }
   ],
   "source": [
    "n = 0\n",
    "n += 1\n",
    "n += 2\n",
    "n += 3\n",
    "n += 4\n",
    "n += 5\n",
    "n += 6\n",
    "n += 7\n",
    "n += 8\n",
    "n += 9\n",
    "n += 10\n",
    "n"
   ]
  },
  {
   "cell_type": "code",
   "execution_count": 3,
   "metadata": {},
   "outputs": [
    {
     "data": {
      "text/plain": [
       "[1, 2, 3, 4, 5, 6, 7, 8, 9]"
      ]
     },
     "execution_count": 3,
     "metadata": {},
     "output_type": "execute_result"
    }
   ],
   "source": [
    "list(range(1, 10))"
   ]
  },
  {
   "cell_type": "code",
   "execution_count": 4,
   "metadata": {},
   "outputs": [
    {
     "data": {
      "text/plain": [
       "[1, 3, 5, 7, 9]"
      ]
     },
     "execution_count": 4,
     "metadata": {},
     "output_type": "execute_result"
    }
   ],
   "source": [
    "list(range(1, 10, 2))"
   ]
  },
  {
   "cell_type": "code",
   "execution_count": 5,
   "metadata": {},
   "outputs": [
    {
     "data": {
      "text/plain": [
       "5050"
      ]
     },
     "execution_count": 5,
     "metadata": {},
     "output_type": "execute_result"
    }
   ],
   "source": [
    "n = 0\n",
    "for i in range(1, 101):\n",
    "    n += i\n",
    "n"
   ]
  },
  {
   "cell_type": "code",
   "execution_count": 7,
   "metadata": {},
   "outputs": [
    {
     "name": "stdout",
     "output_type": "stream",
     "text": [
      "1\n",
      "2\n",
      "4\n",
      "9\n"
     ]
    }
   ],
   "source": [
    "i = 1\n",
    "while i<=10:\n",
    "    print(i)\n",
    "    i += int(input(\"請輸入數值\"))"
   ]
  },
  {
   "cell_type": "code",
   "execution_count": 8,
   "metadata": {},
   "outputs": [
    {
     "name": "stdout",
     "output_type": "stream",
     "text": [
      "5\n",
      "10\n",
      "1\n",
      "2\n",
      "3\n",
      "4\n",
      "5\n",
      "6\n",
      "7\n",
      "8\n",
      "9\n",
      "10\n"
     ]
    }
   ],
   "source": [
    "while(True):\n",
    "    try:\n",
    "        value = int(input(\"請輸入(數值\"))\n",
    "        again = input('您還要繼續嗎(y,n)?')\n",
    "        print(value)\n",
    "        if again == \"n\":\n",
    "            break\n",
    "    except Exception:\n",
    "        print(\"輸入格式錯誤,請重新輸入\")\n",
    "        continue\n",
    "\n",
    "for index in range(1,value+1):\n",
    "    print(index)"
   ]
  },
  {
   "cell_type": "code",
   "execution_count": 11,
   "metadata": {},
   "outputs": [
    {
     "name": "stdout",
     "output_type": "stream",
     "text": [
      "===========猜數字遊戲=============\n",
      "\n"
     ]
    }
   ],
   "source": [
    "import random\n",
    "min = 1\n",
    "max = 100\n",
    "target = random.randint(min, max)\n",
    "target\n",
    "print(\"===========猜數字遊戲=============\\n\")"
   ]
  },
  {
   "cell_type": "code",
   "execution_count": 15,
   "metadata": {},
   "outputs": [
    {
     "name": "stdout",
     "output_type": "stream",
     "text": [
      "===========猜數字遊戲=============\n",
      "\n",
      "再小一點\n",
      "您已經猜了1次\n",
      "再小一點\n",
      "您已經猜了2次\n",
      "再大一點\n",
      "您已經猜了3次\n",
      "再大一點\n",
      "您已經猜了4次\n",
      "再大一點\n",
      "您已經猜了5次\n",
      "再小一點\n",
      "您已經猜了6次\n",
      "再大一點\n",
      "您已經猜了7次\n",
      "賓果!猜對了, 答案是:19\n",
      "您猜了8次\n",
      "應用程式結束\n"
     ]
    }
   ],
   "source": [
    "import random\n",
    "min = 1\n",
    "max = 100\n",
    "target = random.randint(min, max)\n",
    "count = 0\n",
    "print(\"===========猜數字遊戲=============\\n\")\n",
    "while(True):\n",
    "    keyin = int(input(f\"猜數字範圍{min}~{max}:\"))\n",
    "    count += 1\n",
    "    if keyin <= max and keyin >= min:\n",
    "        if target == keyin:\n",
    "            print(f\"賓果!猜對了, 答案是:{target}\")\n",
    "            print(f\"您猜了{count}次\")\n",
    "            break\n",
    "        elif keyin > target:\n",
    "            print('再小一點')\n",
    "            max = keyin-1\n",
    "            \n",
    "        elif keyin < target:\n",
    "            print('再大一點')\n",
    "            min = keyin + 1\n",
    "            \n",
    "        print(f'您已經猜了{count}次')        \n",
    "            \n",
    "    else:\n",
    "        print(\"輸入範圍有錯誤!\")\n",
    "        \n",
    "print(\"應用程式結束\")"
   ]
  },
  {
   "cell_type": "code",
   "execution_count": 17,
   "metadata": {},
   "outputs": [
    {
     "name": "stdout",
     "output_type": "stream",
     "text": [
      "===========猜數字遊戲=============\n",
      "\n",
      "50\n",
      "再小一點\n",
      "您已經猜了1次\n",
      "30\n",
      "再大一點\n",
      "您已經猜了2次\n",
      "45\n",
      "再小一點\n",
      "您已經猜了3次\n",
      "35\n",
      "再大一點\n",
      "您已經猜了4次\n",
      "41\n",
      "再大一點\n",
      "您已經猜了5次\n",
      "44\n",
      "再小一點\n",
      "您已經猜了6次\n",
      "43\n",
      "賓果!猜對了, 答案是:43\n",
      "您猜了7次\n",
      "應用程式結束\n"
     ]
    }
   ],
   "source": [
    "import random\n",
    "while(True):\n",
    "    min = 1\n",
    "    max = 100\n",
    "    target = random.randint(min, max)\n",
    "    count = 0\n",
    "    \n",
    "    print(\"===========猜數字遊戲=============\\n\")\n",
    "    while(True):\n",
    "        keyin = int(input(f\"猜數字範圍{min}~{max}:\"))\n",
    "        print(keyin)\n",
    "        count += 1\n",
    "        if keyin <= max and keyin >= min:\n",
    "            if target == keyin:\n",
    "                print(f\"賓果!猜對了, 答案是:{target}\")\n",
    "                print(f\"您猜了{count}次\")\n",
    "                break\n",
    "            elif keyin > target:\n",
    "                print('再小一點')\n",
    "                max = keyin-1\n",
    "                \n",
    "            elif keyin < target:\n",
    "                print('再大一點')\n",
    "                min = keyin + 1\n",
    "                \n",
    "            print(f'您已經猜了{count}次')        \n",
    "                \n",
    "        else:\n",
    "            print(\"輸入範圍有錯誤!\")\n",
    "    answering = input(\"請問還要繼續嗎?(y,n)\")\n",
    "    if answering == 'n':\n",
    "        break\n",
    "        \n",
    "print(\"應用程式結束\")"
   ]
  },
  {
   "cell_type": "code",
   "execution_count": 18,
   "metadata": {},
   "outputs": [
    {
     "name": "stdout",
     "output_type": "stream",
     "text": [
      "===========猜數字遊戲=============\n",
      "\n",
      "50\n",
      "再小一點\n",
      "您已經猜了1次\n",
      "34\n",
      "再小一點\n",
      "您已經猜了2次\n",
      "23\n",
      "再小一點\n",
      "您已經猜了3次\n",
      "10\n",
      "再大一點\n",
      "您已經猜了4次\n",
      "12\n",
      "再大一點\n",
      "您已經猜了5次\n",
      "16\n",
      "賓果!猜對了, 答案是:16\n",
      "您猜了6次\n",
      "應用程式結束\n"
     ]
    }
   ],
   "source": [
    "import random\n",
    "def play_game():\n",
    "    min = 1\n",
    "    max = 100\n",
    "    target = random.randint(min, max)\n",
    "    count = 0\n",
    "    \n",
    "    print(\"===========猜數字遊戲=============\\n\")\n",
    "    while(True):\n",
    "        keyin = int(input(f\"猜數字範圍{min}~{max}:\"))\n",
    "        print(keyin)\n",
    "        count += 1\n",
    "        if keyin <= max and keyin >= min:\n",
    "            if target == keyin:\n",
    "                print(f\"賓果!猜對了, 答案是:{target}\")\n",
    "                print(f\"您猜了{count}次\")\n",
    "                break\n",
    "            elif keyin > target:\n",
    "                print('再小一點')\n",
    "                max = keyin-1\n",
    "                \n",
    "            elif keyin < target:\n",
    "                print('再大一點')\n",
    "                min = keyin + 1\n",
    "                \n",
    "            print(f'您已經猜了{count}次')        \n",
    "                \n",
    "        else:\n",
    "            print(\"輸入範圍有錯誤!\")\n",
    "\n",
    "while(True):\n",
    "    play_game()\n",
    "    answering = input(\"請問還要繼續嗎?(y,n)\")\n",
    "    if answering == 'n':\n",
    "        break\n",
    "        \n",
    "print(\"應用程式結束\")"
   ]
  },
  {
   "cell_type": "code",
   "execution_count": 19,
   "metadata": {},
   "outputs": [
    {
     "data": {
      "text/plain": [
       "5.0"
      ]
     },
     "execution_count": 19,
     "metadata": {},
     "output_type": "execute_result"
    }
   ],
   "source": [
    "import math\n",
    "def theorem(side:float,another_side:float) -> float:\n",
    "    return math.sqrt(side ** 2 + another_side ** 2)\n",
    "\n",
    "theorem(3,4)"
   ]
  }
 ],
 "metadata": {
  "kernelspec": {
   "display_name": "Python 3",
   "language": "python",
   "name": "python3"
  },
  "language_info": {
   "codemirror_mode": {
    "name": "ipython",
    "version": 3
   },
   "file_extension": ".py",
   "mimetype": "text/x-python",
   "name": "python",
   "nbconvert_exporter": "python",
   "pygments_lexer": "ipython3",
   "version": "3.12.3"
  }
 },
 "nbformat": 4,
 "nbformat_minor": 2
}
